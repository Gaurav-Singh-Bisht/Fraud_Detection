{
 "cells": [
  {
   "cell_type": "markdown",
   "id": "bf07d3c2",
   "metadata": {},
   "source": [
    "  #                      Credit case study eda"
   ]
  },
  {
   "cell_type": "markdown",
   "id": "e91e2633",
   "metadata": {},
   "source": [
    "### Import the required Libraries."
   ]
  },
  {
   "cell_type": "code",
   "execution_count": 1,
   "id": "db435c7f",
   "metadata": {},
   "outputs": [],
   "source": [
    "import pandas as pd\n",
    "import numpy as np\n",
    "import matplotlib.pyplot as plt\n",
    "import seaborn as sns"
   ]
  },
  {
   "cell_type": "markdown",
   "id": "11611727",
   "metadata": {},
   "source": [
    "## import warning\n"
   ]
  },
  {
   "cell_type": "code",
   "execution_count": 2,
   "id": "4b29db40",
   "metadata": {},
   "outputs": [],
   "source": [
    "import warnings\n",
    "warnings.filterwarnings('ignore')"
   ]
  },
  {
   "cell_type": "markdown",
   "id": "4eac08a9",
   "metadata": {},
   "source": [
    "### Data Cleaning\n",
    "\n",
    "\n",
    "\n",
    "#### Data Reading & Data Types"
   ]
  },
  {
   "cell_type": "code",
   "execution_count": 3,
   "id": "6c503dfb",
   "metadata": {},
   "outputs": [
    {
     "ename": "FileNotFoundError",
     "evalue": "[Errno 2] No such file or directory: 'application_data.csv'",
     "output_type": "error",
     "traceback": [
      "\u001b[1;31m---------------------------------------------------------------------------\u001b[0m",
      "\u001b[1;31mFileNotFoundError\u001b[0m                         Traceback (most recent call last)",
      "\u001b[1;32m~\\AppData\\Local\\Temp\\ipykernel_11696\\332844964.py\u001b[0m in \u001b[0;36m<module>\u001b[1;34m\u001b[0m\n\u001b[0;32m      1\u001b[0m \u001b[1;31m#Read the data in pandas\u001b[0m\u001b[1;33m\u001b[0m\u001b[1;33m\u001b[0m\u001b[0m\n\u001b[1;32m----> 2\u001b[1;33m \u001b[0minp0\u001b[0m\u001b[1;33m=\u001b[0m \u001b[0mpd\u001b[0m\u001b[1;33m.\u001b[0m\u001b[0mread_csv\u001b[0m\u001b[1;33m(\u001b[0m\u001b[1;34m\"application_data.csv\"\u001b[0m\u001b[1;33m)\u001b[0m\u001b[1;33m\u001b[0m\u001b[1;33m\u001b[0m\u001b[0m\n\u001b[0m\u001b[0;32m      3\u001b[0m \u001b[0minp1\u001b[0m\u001b[1;33m=\u001b[0m \u001b[0mpd\u001b[0m\u001b[1;33m.\u001b[0m\u001b[0mread_csv\u001b[0m\u001b[1;33m(\u001b[0m\u001b[1;34m\"previous_application.csv\"\u001b[0m\u001b[1;33m)\u001b[0m\u001b[1;33m\u001b[0m\u001b[1;33m\u001b[0m\u001b[0m\n\u001b[0;32m      4\u001b[0m \u001b[0mpd\u001b[0m\u001b[1;33m.\u001b[0m\u001b[0mset_option\u001b[0m\u001b[1;33m(\u001b[0m\u001b[1;34m'display.max_rows'\u001b[0m\u001b[1;33m,\u001b[0m\u001b[1;32mNone\u001b[0m\u001b[1;33m)\u001b[0m\u001b[1;33m\u001b[0m\u001b[1;33m\u001b[0m\u001b[0m\n",
      "\u001b[1;32mC:\\ProgramData\\Anaconda3\\lib\\site-packages\\pandas\\util\\_decorators.py\u001b[0m in \u001b[0;36mwrapper\u001b[1;34m(*args, **kwargs)\u001b[0m\n\u001b[0;32m    309\u001b[0m                     \u001b[0mstacklevel\u001b[0m\u001b[1;33m=\u001b[0m\u001b[0mstacklevel\u001b[0m\u001b[1;33m,\u001b[0m\u001b[1;33m\u001b[0m\u001b[1;33m\u001b[0m\u001b[0m\n\u001b[0;32m    310\u001b[0m                 )\n\u001b[1;32m--> 311\u001b[1;33m             \u001b[1;32mreturn\u001b[0m \u001b[0mfunc\u001b[0m\u001b[1;33m(\u001b[0m\u001b[1;33m*\u001b[0m\u001b[0margs\u001b[0m\u001b[1;33m,\u001b[0m \u001b[1;33m**\u001b[0m\u001b[0mkwargs\u001b[0m\u001b[1;33m)\u001b[0m\u001b[1;33m\u001b[0m\u001b[1;33m\u001b[0m\u001b[0m\n\u001b[0m\u001b[0;32m    312\u001b[0m \u001b[1;33m\u001b[0m\u001b[0m\n\u001b[0;32m    313\u001b[0m         \u001b[1;32mreturn\u001b[0m \u001b[0mwrapper\u001b[0m\u001b[1;33m\u001b[0m\u001b[1;33m\u001b[0m\u001b[0m\n",
      "\u001b[1;32mC:\\ProgramData\\Anaconda3\\lib\\site-packages\\pandas\\io\\parsers\\readers.py\u001b[0m in \u001b[0;36mread_csv\u001b[1;34m(filepath_or_buffer, sep, delimiter, header, names, index_col, usecols, squeeze, prefix, mangle_dupe_cols, dtype, engine, converters, true_values, false_values, skipinitialspace, skiprows, skipfooter, nrows, na_values, keep_default_na, na_filter, verbose, skip_blank_lines, parse_dates, infer_datetime_format, keep_date_col, date_parser, dayfirst, cache_dates, iterator, chunksize, compression, thousands, decimal, lineterminator, quotechar, quoting, doublequote, escapechar, comment, encoding, encoding_errors, dialect, error_bad_lines, warn_bad_lines, on_bad_lines, delim_whitespace, low_memory, memory_map, float_precision, storage_options)\u001b[0m\n\u001b[0;32m    676\u001b[0m     \u001b[0mkwds\u001b[0m\u001b[1;33m.\u001b[0m\u001b[0mupdate\u001b[0m\u001b[1;33m(\u001b[0m\u001b[0mkwds_defaults\u001b[0m\u001b[1;33m)\u001b[0m\u001b[1;33m\u001b[0m\u001b[1;33m\u001b[0m\u001b[0m\n\u001b[0;32m    677\u001b[0m \u001b[1;33m\u001b[0m\u001b[0m\n\u001b[1;32m--> 678\u001b[1;33m     \u001b[1;32mreturn\u001b[0m \u001b[0m_read\u001b[0m\u001b[1;33m(\u001b[0m\u001b[0mfilepath_or_buffer\u001b[0m\u001b[1;33m,\u001b[0m \u001b[0mkwds\u001b[0m\u001b[1;33m)\u001b[0m\u001b[1;33m\u001b[0m\u001b[1;33m\u001b[0m\u001b[0m\n\u001b[0m\u001b[0;32m    679\u001b[0m \u001b[1;33m\u001b[0m\u001b[0m\n\u001b[0;32m    680\u001b[0m \u001b[1;33m\u001b[0m\u001b[0m\n",
      "\u001b[1;32mC:\\ProgramData\\Anaconda3\\lib\\site-packages\\pandas\\io\\parsers\\readers.py\u001b[0m in \u001b[0;36m_read\u001b[1;34m(filepath_or_buffer, kwds)\u001b[0m\n\u001b[0;32m    573\u001b[0m \u001b[1;33m\u001b[0m\u001b[0m\n\u001b[0;32m    574\u001b[0m     \u001b[1;31m# Create the parser.\u001b[0m\u001b[1;33m\u001b[0m\u001b[1;33m\u001b[0m\u001b[0m\n\u001b[1;32m--> 575\u001b[1;33m     \u001b[0mparser\u001b[0m \u001b[1;33m=\u001b[0m \u001b[0mTextFileReader\u001b[0m\u001b[1;33m(\u001b[0m\u001b[0mfilepath_or_buffer\u001b[0m\u001b[1;33m,\u001b[0m \u001b[1;33m**\u001b[0m\u001b[0mkwds\u001b[0m\u001b[1;33m)\u001b[0m\u001b[1;33m\u001b[0m\u001b[1;33m\u001b[0m\u001b[0m\n\u001b[0m\u001b[0;32m    576\u001b[0m \u001b[1;33m\u001b[0m\u001b[0m\n\u001b[0;32m    577\u001b[0m     \u001b[1;32mif\u001b[0m \u001b[0mchunksize\u001b[0m \u001b[1;32mor\u001b[0m \u001b[0miterator\u001b[0m\u001b[1;33m:\u001b[0m\u001b[1;33m\u001b[0m\u001b[1;33m\u001b[0m\u001b[0m\n",
      "\u001b[1;32mC:\\ProgramData\\Anaconda3\\lib\\site-packages\\pandas\\io\\parsers\\readers.py\u001b[0m in \u001b[0;36m__init__\u001b[1;34m(self, f, engine, **kwds)\u001b[0m\n\u001b[0;32m    930\u001b[0m \u001b[1;33m\u001b[0m\u001b[0m\n\u001b[0;32m    931\u001b[0m         \u001b[0mself\u001b[0m\u001b[1;33m.\u001b[0m\u001b[0mhandles\u001b[0m\u001b[1;33m:\u001b[0m \u001b[0mIOHandles\u001b[0m \u001b[1;33m|\u001b[0m \u001b[1;32mNone\u001b[0m \u001b[1;33m=\u001b[0m \u001b[1;32mNone\u001b[0m\u001b[1;33m\u001b[0m\u001b[1;33m\u001b[0m\u001b[0m\n\u001b[1;32m--> 932\u001b[1;33m         \u001b[0mself\u001b[0m\u001b[1;33m.\u001b[0m\u001b[0m_engine\u001b[0m \u001b[1;33m=\u001b[0m \u001b[0mself\u001b[0m\u001b[1;33m.\u001b[0m\u001b[0m_make_engine\u001b[0m\u001b[1;33m(\u001b[0m\u001b[0mf\u001b[0m\u001b[1;33m,\u001b[0m \u001b[0mself\u001b[0m\u001b[1;33m.\u001b[0m\u001b[0mengine\u001b[0m\u001b[1;33m)\u001b[0m\u001b[1;33m\u001b[0m\u001b[1;33m\u001b[0m\u001b[0m\n\u001b[0m\u001b[0;32m    933\u001b[0m \u001b[1;33m\u001b[0m\u001b[0m\n\u001b[0;32m    934\u001b[0m     \u001b[1;32mdef\u001b[0m \u001b[0mclose\u001b[0m\u001b[1;33m(\u001b[0m\u001b[0mself\u001b[0m\u001b[1;33m)\u001b[0m\u001b[1;33m:\u001b[0m\u001b[1;33m\u001b[0m\u001b[1;33m\u001b[0m\u001b[0m\n",
      "\u001b[1;32mC:\\ProgramData\\Anaconda3\\lib\\site-packages\\pandas\\io\\parsers\\readers.py\u001b[0m in \u001b[0;36m_make_engine\u001b[1;34m(self, f, engine)\u001b[0m\n\u001b[0;32m   1214\u001b[0m             \u001b[1;31m# \"Union[str, PathLike[str], ReadCsvBuffer[bytes], ReadCsvBuffer[str]]\"\u001b[0m\u001b[1;33m\u001b[0m\u001b[1;33m\u001b[0m\u001b[0m\n\u001b[0;32m   1215\u001b[0m             \u001b[1;31m# , \"str\", \"bool\", \"Any\", \"Any\", \"Any\", \"Any\", \"Any\"\u001b[0m\u001b[1;33m\u001b[0m\u001b[1;33m\u001b[0m\u001b[0m\n\u001b[1;32m-> 1216\u001b[1;33m             self.handles = get_handle(  # type: ignore[call-overload]\n\u001b[0m\u001b[0;32m   1217\u001b[0m                 \u001b[0mf\u001b[0m\u001b[1;33m,\u001b[0m\u001b[1;33m\u001b[0m\u001b[1;33m\u001b[0m\u001b[0m\n\u001b[0;32m   1218\u001b[0m                 \u001b[0mmode\u001b[0m\u001b[1;33m,\u001b[0m\u001b[1;33m\u001b[0m\u001b[1;33m\u001b[0m\u001b[0m\n",
      "\u001b[1;32mC:\\ProgramData\\Anaconda3\\lib\\site-packages\\pandas\\io\\common.py\u001b[0m in \u001b[0;36mget_handle\u001b[1;34m(path_or_buf, mode, encoding, compression, memory_map, is_text, errors, storage_options)\u001b[0m\n\u001b[0;32m    784\u001b[0m         \u001b[1;32mif\u001b[0m \u001b[0mioargs\u001b[0m\u001b[1;33m.\u001b[0m\u001b[0mencoding\u001b[0m \u001b[1;32mand\u001b[0m \u001b[1;34m\"b\"\u001b[0m \u001b[1;32mnot\u001b[0m \u001b[1;32min\u001b[0m \u001b[0mioargs\u001b[0m\u001b[1;33m.\u001b[0m\u001b[0mmode\u001b[0m\u001b[1;33m:\u001b[0m\u001b[1;33m\u001b[0m\u001b[1;33m\u001b[0m\u001b[0m\n\u001b[0;32m    785\u001b[0m             \u001b[1;31m# Encoding\u001b[0m\u001b[1;33m\u001b[0m\u001b[1;33m\u001b[0m\u001b[0m\n\u001b[1;32m--> 786\u001b[1;33m             handle = open(\n\u001b[0m\u001b[0;32m    787\u001b[0m                 \u001b[0mhandle\u001b[0m\u001b[1;33m,\u001b[0m\u001b[1;33m\u001b[0m\u001b[1;33m\u001b[0m\u001b[0m\n\u001b[0;32m    788\u001b[0m                 \u001b[0mioargs\u001b[0m\u001b[1;33m.\u001b[0m\u001b[0mmode\u001b[0m\u001b[1;33m,\u001b[0m\u001b[1;33m\u001b[0m\u001b[1;33m\u001b[0m\u001b[0m\n",
      "\u001b[1;31mFileNotFoundError\u001b[0m: [Errno 2] No such file or directory: 'application_data.csv'"
     ]
    }
   ],
   "source": [
    "#Read the data in pandas\n",
    "inp0= pd.read_csv(\"application_data.csv\")\n",
    "inp1= pd.read_csv(\"previous_application.csv\")\n",
    "pd.set_option('display.max_rows',None)"
   ]
  },
  {
   "cell_type": "code",
   "execution_count": null,
   "id": "f6396a24",
   "metadata": {},
   "outputs": [],
   "source": [
    "inp0.head()"
   ]
  },
  {
   "cell_type": "code",
   "execution_count": null,
   "id": "3b989d88",
   "metadata": {},
   "outputs": [],
   "source": [
    "inp0.shape"
   ]
  },
  {
   "cell_type": "code",
   "execution_count": null,
   "id": "2ae5f5cc",
   "metadata": {},
   "outputs": [],
   "source": [
    "# Print the information about the attributes of inp0\n",
    "inp0.info(verbose=True,null_counts=True)"
   ]
  },
  {
   "cell_type": "code",
   "execution_count": null,
   "id": "626993ca",
   "metadata": {},
   "outputs": [],
   "source": [
    "inp0.describe()"
   ]
  },
  {
   "cell_type": "code",
   "execution_count": null,
   "id": "7fd8078a",
   "metadata": {},
   "outputs": [],
   "source": [
    "inp1.head()"
   ]
  },
  {
   "cell_type": "code",
   "execution_count": null,
   "id": "86962c9a",
   "metadata": {},
   "outputs": [],
   "source": [
    "inp1.shape"
   ]
  },
  {
   "cell_type": "code",
   "execution_count": null,
   "id": "a0d593f2",
   "metadata": {},
   "outputs": [],
   "source": [
    "# Print the information about the attributes of inp1\n",
    "inp1.info(verbose=True,null_counts=True)"
   ]
  },
  {
   "cell_type": "code",
   "execution_count": null,
   "id": "eb627353",
   "metadata": {},
   "outputs": [],
   "source": [
    "inp2"
   ]
  },
  {
   "cell_type": "markdown",
   "id": "5ea1f20e",
   "metadata": {},
   "source": [
    "#####  Data Cleaning"
   ]
  },
  {
   "cell_type": "code",
   "execution_count": null,
   "id": "ce28abb2",
   "metadata": {},
   "outputs": [],
   "source": [
    "#find the percentage of missing values\n",
    "(inp0.isnull().sum()/len(inp0)*100).sort_values(ascending=False)"
   ]
  },
  {
   "cell_type": "code",
   "execution_count": null,
   "id": "fa6ebc5e",
   "metadata": {},
   "outputs": [],
   "source": [
    "#check the null values more than 40%\n",
    "(inp0.isnull().sum()/len(inp0)*100)[(inp0.isnull().sum()/len(inp0)*100)>40].sort_values(ascending=False)"
   ]
  },
  {
   "cell_type": "code",
   "execution_count": null,
   "id": "bc51c0dc",
   "metadata": {},
   "outputs": [],
   "source": [
    "inp0.shape"
   ]
  },
  {
   "cell_type": "code",
   "execution_count": null,
   "id": "7ed50c1a",
   "metadata": {},
   "outputs": [],
   "source": [
    "#Removing the columns having null values more than 40%\n",
    "remove_col = inp0.isnull().sum()/len(inp0)*100\n",
    "remove_col = list(remove_col[remove_col.values>=40].index)\n",
    "inp0.drop(labels=remove_col,axis=1,inplace=True)\n",
    "print(len(remove_col))"
   ]
  },
  {
   "cell_type": "code",
   "execution_count": null,
   "id": "08b8f280",
   "metadata": {},
   "outputs": [],
   "source": [
    "inp0.shape"
   ]
  },
  {
   "cell_type": "code",
   "execution_count": null,
   "id": "4e44a259",
   "metadata": {},
   "outputs": [],
   "source": [
    "# checking the columns having null values less than 19%\n",
    "col_under=(inp0.isnull().sum()/len(inp0)*100)\n",
    "col_under = col_under[col_under.values<19]\n",
    "col_under.sort_values(ascending=False)"
   ]
  },
  {
   "cell_type": "markdown",
   "id": "7fe18353",
   "metadata": {},
   "source": [
    "##### analysis of AMT_ANNUITY column"
   ]
  },
  {
   "cell_type": "code",
   "execution_count": null,
   "id": "b91286ce",
   "metadata": {},
   "outputs": [],
   "source": [
    "list(inp0.columns[(inp0.isnull().mean()<=13)& (inp0.isnull().mean()>0)])"
   ]
  },
  {
   "cell_type": "code",
   "execution_count": null,
   "id": "e1b19a86",
   "metadata": {},
   "outputs": [],
   "source": [
    "inp0.AMT_ANNUITY.value_counts()"
   ]
  },
  {
   "cell_type": "code",
   "execution_count": null,
   "id": "0f2af336",
   "metadata": {},
   "outputs": [],
   "source": [
    "# describing the AMT_ANNUITY columns\n",
    "inp0.AMT_ANNUITY.describe()"
   ]
  },
  {
   "cell_type": "code",
   "execution_count": null,
   "id": "03470853",
   "metadata": {},
   "outputs": [],
   "source": [
    "inp0.AMT_ANNUITY.median()"
   ]
  },
  {
   "cell_type": "code",
   "execution_count": null,
   "id": "1bb0ec13",
   "metadata": {},
   "outputs": [],
   "source": [
    "# imputing the missing values with median values and then verify the missing values\n",
    "inp0['AMT_ANNUITY'] = inp0['AMT_ANNUITY'].fillna(inp0.AMT_ANNUITY.median())\n",
    "inp0.AMT_ANNUITY.isnull().sum()"
   ]
  },
  {
   "cell_type": "markdown",
   "id": "819605e8",
   "metadata": {},
   "source": [
    "#### analyse the AMT_GOODS_PRICE"
   ]
  },
  {
   "cell_type": "code",
   "execution_count": null,
   "id": "3e2c0f16",
   "metadata": {},
   "outputs": [],
   "source": [
    "# describing the AMT_GOODS_PRICE column\n",
    "inp0.AMT_GOODS_PRICE.describe()"
   ]
  },
  {
   "cell_type": "code",
   "execution_count": null,
   "id": "918f8375",
   "metadata": {},
   "outputs": [],
   "source": [
    "inp0.AMT_GOODS_PRICE.median()"
   ]
  },
  {
   "cell_type": "code",
   "execution_count": null,
   "id": "17ac4f04",
   "metadata": {},
   "outputs": [],
   "source": [
    "# imputing the missing values with median values and then verify the missing values\n",
    "inp0['AMT_GOODS_PRICE'] = inp0['AMT_GOODS_PRICE'].fillna(inp0.AMT_GOODS_PRICE.median())\n",
    "inp0.AMT_GOODS_PRICE.isnull().sum()"
   ]
  },
  {
   "cell_type": "code",
   "execution_count": null,
   "id": "5dddb91b",
   "metadata": {},
   "outputs": [],
   "source": [
    "#  Analysing CNT_FAM-MEMBERS column\n",
    "inp0.CNT_FAM_MEMBERS.describe()"
   ]
  },
  {
   "cell_type": "code",
   "execution_count": null,
   "id": "3b06bb48",
   "metadata": {},
   "outputs": [],
   "source": [
    "inp0['CNT_FAM_MEMBERS'] = inp0['CNT_FAM_MEMBERS'].fillna(inp0['CNT_FAM_MEMBERS'].median())\n",
    "inp0.CNT_FAM_MEMBERS.isnull().sum()"
   ]
  },
  {
   "cell_type": "code",
   "execution_count": null,
   "id": "ac950b36",
   "metadata": {},
   "outputs": [],
   "source": [
    "# Analysing OBS_30_CNT_SOCIAL_CIRCLE column\n",
    "inp0.OBS_30_CNT_SOCIAL_CIRCLE.describe()"
   ]
  },
  {
   "cell_type": "code",
   "execution_count": null,
   "id": "d59886c5",
   "metadata": {},
   "outputs": [],
   "source": [
    "inp0['OBS_30_CNT_SOCIAL_CIRCLE'] = inp0['OBS_30_CNT_SOCIAL_CIRCLE'].fillna(inp0['OBS_30_CNT_SOCIAL_CIRCLE'].median())\n",
    "inp0.CNT_FAM_MEMBERS.isnull().sum()"
   ]
  },
  {
   "cell_type": "code",
   "execution_count": null,
   "id": "d10c7244",
   "metadata": {},
   "outputs": [],
   "source": [
    "# Analysing DEF_30_CNT_SOCIAL_CIRCLE column\n",
    "inp0.DEF_30_CNT_SOCIAL_CIRCLE.describe()"
   ]
  },
  {
   "cell_type": "code",
   "execution_count": null,
   "id": "00510ffc",
   "metadata": {},
   "outputs": [],
   "source": [
    "inp0['DEF_30_CNT_SOCIAL_CIRCLE'] = inp0['DEF_30_CNT_SOCIAL_CIRCLE'].fillna(inp0['DEF_30_CNT_SOCIAL_CIRCLE'].median())\n",
    "inp0.CNT_FAM_MEMBERS.isnull().sum()"
   ]
  },
  {
   "cell_type": "code",
   "execution_count": null,
   "id": "3f41f2d9",
   "metadata": {},
   "outputs": [],
   "source": [
    "inp0.columns[(inp0.isnull().mean()<=13)& (inp0.isnull().mean()>0)]"
   ]
  },
  {
   "cell_type": "code",
   "execution_count": null,
   "id": "ac884ac9",
   "metadata": {},
   "outputs": [],
   "source": [
    "# Value Count of Code_GENDER\n",
    "inp0['CODE_GENDER'].value_counts()"
   ]
  },
  {
   "cell_type": "code",
   "execution_count": null,
   "id": "f9e581fb",
   "metadata": {},
   "outputs": [],
   "source": [
    "# dropping the XNA from code_gender\n",
    "inp0 = inp0.drop(inp0.loc[inp0['CODE_GENDER']=='XNA'].index)\n",
    "inp0['CODE_GENDER'].value_counts()"
   ]
  },
  {
   "cell_type": "code",
   "execution_count": null,
   "id": "4332f6fd",
   "metadata": {},
   "outputs": [],
   "source": [
    "#imputing the field names to male for m nad female for f\n",
    "inp0['CODE_GENDER']=inp0['CODE_GENDER'].replace(['M'],'Male')\n",
    "inp0['CODE_GENDER']=inp0['CODE_GENDER'].replace(['F'],'Female')\n",
    "inp0.CODE_GENDER.value_counts()"
   ]
  },
  {
   "cell_type": "code",
   "execution_count": null,
   "id": "479d8f58",
   "metadata": {},
   "outputs": [],
   "source": [
    "inp0.CODE_GENDER.value_counts().plot.barh()\n",
    "plt.show()"
   ]
  },
  {
   "cell_type": "code",
   "execution_count": null,
   "id": "2f516aff",
   "metadata": {},
   "outputs": [],
   "source": [
    "# dropping the flag_document column as no detail about the document\n",
    "flag_col = inp0.filter(axis=1, like='FLAG_DOC').columns.to_list() # storing all flag item in one list\n",
    "flag_col"
   ]
  },
  {
   "cell_type": "code",
   "execution_count": null,
   "id": "12efaa5a",
   "metadata": {},
   "outputs": [],
   "source": [
    "inp0.drop(columns = flag_col, inplace=True)"
   ]
  },
  {
   "cell_type": "code",
   "execution_count": null,
   "id": "4c700e23",
   "metadata": {},
   "outputs": [],
   "source": [
    "inp0.info(verbose=True,null_counts=True)"
   ]
  },
  {
   "cell_type": "code",
   "execution_count": null,
   "id": "12553e4d",
   "metadata": {},
   "outputs": [],
   "source": [
    "inp0.head()"
   ]
  },
  {
   "cell_type": "code",
   "execution_count": null,
   "id": "de2df47f",
   "metadata": {},
   "outputs": [],
   "source": [
    "# Analyse Organisation Type\n",
    "inp0['ORGANIZATION_TYPE'].value_counts()"
   ]
  },
  {
   "cell_type": "code",
   "execution_count": null,
   "id": "2c7c8e2f",
   "metadata": {},
   "outputs": [],
   "source": [
    "# Replace XNA with NA(no value available)\n",
    "inp0['ORGANIZATION_TYPE']=inp0['ORGANIZATION_TYPE'].replace(['XNA'],'NA')\n",
    "inp0['ORGANIZATION_TYPE'].value_counts()"
   ]
  },
  {
   "cell_type": "code",
   "execution_count": null,
   "id": "07a47651",
   "metadata": {},
   "outputs": [],
   "source": [
    "inp1.info()"
   ]
  },
  {
   "cell_type": "code",
   "execution_count": null,
   "id": "77940dfc",
   "metadata": {},
   "outputs": [],
   "source": [
    "#checking the NAME_CASH_LOAN_PURPOSE column\n",
    "inp1.NAME_CASH_LOAN_PURPOSE.value_counts()"
   ]
  },
  {
   "cell_type": "code",
   "execution_count": null,
   "id": "f7577cfa",
   "metadata": {},
   "outputs": [],
   "source": [
    "#Replacing the XAP & XNA to NA\n",
    "inp1['NAME_CASH_LOAN_PURPOSE']=inp1['NAME_CASH_LOAN_PURPOSE'].replace(['XAP'],'NA')\n",
    "inp1['NAME_CASH_LOAN_PURPOSE']=inp1['NAME_CASH_LOAN_PURPOSE'].replace(['XNA'],'NA')\n",
    "inp1.NAME_CASH_LOAN_PURPOSE.value_counts()"
   ]
  },
  {
   "cell_type": "code",
   "execution_count": null,
   "id": "03e8da4b",
   "metadata": {},
   "outputs": [],
   "source": [
    "# analysing the Target variable\n",
    "inp0.TARGET.value_counts(normalize=True)*100"
   ]
  },
  {
   "cell_type": "code",
   "execution_count": null,
   "id": "c558f32a",
   "metadata": {},
   "outputs": [],
   "source": [
    "# renaming 0 - defaulter and 1- non defaulter\n",
    "inp0['TARGET']=inp0['TARGET'].replace([1],'defaulter')\n",
    "inp0['TARGET']=inp0['TARGET'].replace([0],'non defaulter')\n",
    "inp0.TARGET.value_counts()"
   ]
  },
  {
   "cell_type": "code",
   "execution_count": null,
   "id": "ce673be4",
   "metadata": {},
   "outputs": [],
   "source": [
    "#plot the graph og data imbalance\n",
    "plt.pie(inp0.TARGET.value_counts(normalize=True)*100, labels=inp0.TARGET.value_counts().index, autopct='%1.f%%' )\n",
    "plt.title(\"Data Imbalance On Target\",fontsize=14,ha='center',va='center')\n",
    "plt.legend()\n",
    "plt.tight_layout()\n",
    "plt.show()"
   ]
  },
  {
   "cell_type": "code",
   "execution_count": null,
   "id": "1513b21b",
   "metadata": {},
   "outputs": [],
   "source": [
    "\n",
    "inp0.info(verbose=True,null_counts=True)"
   ]
  },
  {
   "cell_type": "code",
   "execution_count": null,
   "id": "7802ae1b",
   "metadata": {},
   "outputs": [],
   "source": [
    "# change the column into int\n",
    "dtype_0=['AMT_INCOME_TOTAL', 'AMT_CREDIT', 'AMT_ANNUITY', 'AMT_GOODS_PRICE','REGION_POPULATION_RELATIVE', 'DAYS_REGISTRATION', 'CNT_FAM_MEMBERS','EXT_SOURCE_2', 'EXT_SOURCE_3', 'OBS_30_CNT_SOCIAL_CIRCLE','DEF_30_CNT_SOCIAL_CIRCLE', 'OBS_60_CNT_SOCIAL_CIRCLE','DEF_60_CNT_SOCIAL_CIRCLE', 'DAYS_LAST_PHONE_CHANGE','AMT_REQ_CREDIT_BUREAU_HOUR', 'AMT_REQ_CREDIT_BUREAU_DAY','AMT_REQ_CREDIT_BUREAU_WEEK', 'AMT_REQ_CREDIT_BUREAU_MON','AMT_REQ_CREDIT_BUREAU_QRT', 'AMT_REQ_CREDIT_BUREAU_YEAR',]\n",
    "inp0[dtype_0]=inp0[dtype_0].apply(pd.to_numeric)\n",
    "inp0.info(verbose=True,null_counts=True)"
   ]
  },
  {
   "cell_type": "code",
   "execution_count": null,
   "id": "a0f07c52",
   "metadata": {},
   "outputs": [],
   "source": [
    "# create bin for AMT_INCOME_BIN\n",
    "bins=[0,25000,50000,75000,100000,125000,150000,175000,200000,225000,250000,275000,300000,325000,350000,375000,400000,425000,450000,475000,500000,10000000000]\n",
    "labels=['0-25000', '25000-50000','50000-75000','75000-100000','100000-125000', '125000-150000', '150000-175000','175000-200000','200000-225000','225000-250000','250000-275000','275000-300000','300000-325000','325000-350000','350000-375000','375000-400000','400000-425000','425000-450000','450000-475000','475000-500000','500000 and above']\n",
    "inp0['AMT_INCOME_BIN']= pd.cut(inp0['AMT_INCOME_TOTAL'],bins=bins,labels= labels)\n",
    "                                                    "
   ]
  },
  {
   "cell_type": "code",
   "execution_count": null,
   "id": "66768e43",
   "metadata": {},
   "outputs": [],
   "source": [
    "# Checking the newly created bin column\n",
    "inp0.AMT_INCOME_BIN.value_counts()"
   ]
  },
  {
   "cell_type": "code",
   "execution_count": null,
   "id": "1ab430f1",
   "metadata": {},
   "outputs": [],
   "source": []
  },
  {
   "cell_type": "code",
   "execution_count": null,
   "id": "c04c92b4",
   "metadata": {},
   "outputs": [],
   "source": [
    "#Calculating the Age of the client from DAYS_BIRTH column\n",
    "inp0['Age_of_Cnt'] = (inp0.DAYS_BIRTH // 365).abs()\n",
    "inp0.head()"
   ]
  },
  {
   "cell_type": "code",
   "execution_count": null,
   "id": "67b8a7b4",
   "metadata": {},
   "outputs": [],
   "source": [
    "# create bin for Age column\n",
    "bins= [0,30,40,50,60,100]\n",
    "labels=['<30', '30-40','40-50','50-60','60+']\n",
    "inp0['Age_Range']= pd.cut(inp0['Age_of_Cnt'],bins=bins,labels= labels)\n",
    "inp0.head()                                                   "
   ]
  },
  {
   "cell_type": "markdown",
   "id": "64de9bec",
   "metadata": {},
   "source": [
    "#### Checking outliers"
   ]
  },
  {
   "cell_type": "code",
   "execution_count": null,
   "id": "44fe7402",
   "metadata": {},
   "outputs": [],
   "source": [
    "#plotting the values of AMT_ANNUITY columns\n",
    "plt.figure(figsize=(6,5))\n",
    "plt.title(\"AMT_ANNUITY Count\")\n",
    "sns.boxplot(data= inp0,x='AMT_ANNUITY',y='TARGET')\n",
    "plt.show()"
   ]
  },
  {
   "cell_type": "code",
   "execution_count": null,
   "id": "e1f80be5",
   "metadata": {},
   "outputs": [],
   "source": [
    "#plotting the values of children columns\n",
    "plt.figure(figsize=(6,5))\n",
    "plt.title(\"Children Count\")\n",
    "sns.boxplot(data= inp0,x='CNT_CHILDREN',y='TARGET')\n",
    "plt.show()"
   ]
  },
  {
   "cell_type": "markdown",
   "id": "5ea47008",
   "metadata": {},
   "source": [
    "1) median of the children count is almost 0, which means many applicants don't have kids\n",
    "\n",
    "2) Applicants with more than 7 kids can be treated as outliers"
   ]
  },
  {
   "cell_type": "code",
   "execution_count": null,
   "id": "0000675c",
   "metadata": {},
   "outputs": [],
   "source": [
    "#plotting the values of AMT_CREDIT columns\n",
    "plt.figure(figsize=(6,5))\n",
    "plt.title(\"AMT_CREDIT Count\")\n",
    "sns.boxplot(data= inp0,x='AMT_CREDIT',y='TARGET')\n",
    "plt.show()"
   ]
  },
  {
   "cell_type": "code",
   "execution_count": null,
   "id": "14aaac31",
   "metadata": {},
   "outputs": [],
   "source": [
    "#plotting the values of AMT_GOODS_PRICE columns\n",
    "plt.figure(figsize=(6,5))\n",
    "plt.title(\"AMT_GOODS_PRICE Count\")\n",
    "sns.boxplot(data= inp0,x='AMT_GOODS_PRICE',y='TARGET')\n",
    "plt.xlabel(\"Target Variables\")\n",
    "plt.ylabel(\"AMT_GOODS_PRICE Count\")\n",
    "plt.show()"
   ]
  },
  {
   "cell_type": "code",
   "execution_count": null,
   "id": "096dc5a2",
   "metadata": {},
   "outputs": [],
   "source": [
    "#plotting the values of Age_of_Cnt columns\n",
    "plt.figure(figsize=(6,5))\n",
    "plt.title(\"Age_of_Cnt Count\")\n",
    "sns.boxplot(data= inp0,x='Age_of_Cnt',y='TARGET')\n",
    "\n",
    "plt.show()"
   ]
  },
  {
   "cell_type": "code",
   "execution_count": null,
   "id": "601552c1",
   "metadata": {},
   "outputs": [],
   "source": [
    "#plotting the values of DAYS_EMPLOYED columns\n",
    "plt.figure(figsize=(6,5))\n",
    "plt.title(\"DAYS_EMPLOYED Count\")\n",
    "sns.boxplot(data= inp0,x='DAYS_EMPLOYED',y='TARGET')\n",
    "plt.show()"
   ]
  },
  {
   "cell_type": "markdown",
   "id": "5ef07301",
   "metadata": {},
   "source": [
    "It is showing outlier as 350000/ 365 we will get approx 998 years which is not practically possible\n"
   ]
  },
  {
   "cell_type": "code",
   "execution_count": null,
   "id": "799c8283",
   "metadata": {},
   "outputs": [],
   "source": [
    "inp0 = inp0[inp0.DAYS_EMPLOYED<np.nanpercentile(inp0['DAYS_EMPLOYED'],99)]\n",
    "inp0.DAYS_EMPLOYED.abs().describe()"
   ]
  },
  {
   "cell_type": "markdown",
   "id": "2efd3c04",
   "metadata": {},
   "source": [
    "#### univariate analysis for categories"
   ]
  },
  {
   "cell_type": "code",
   "execution_count": null,
   "id": "c1071722",
   "metadata": {},
   "outputs": [],
   "source": [
    "#plotting the countplot for checking the distribution of incomes according to age\n",
    "sns.countplot(data= inp0,x='AMT_INCOME_BIN',hue='CODE_GENDER')\n",
    "plt.title(\"Income Distribution of Applicants\")\n",
    "plt.xticks(rotation=90,fontsize=10)\n",
    "plt.show()"
   ]
  },
  {
   "cell_type": "markdown",
   "id": "11c6d581",
   "metadata": {},
   "source": [
    "1) Females have more incomes than the males\n",
    "\n",
    "2) The Difference in incomes decrease as the salary increases\n",
    "\n",
    "3) Females Applicants are more than Males"
   ]
  },
  {
   "cell_type": "code",
   "execution_count": null,
   "id": "5902860e",
   "metadata": {},
   "outputs": [],
   "source": [
    "#plotting the countplot for checking the distribution of income\n",
    "sns.countplot(data= inp0,x='AMT_INCOME_BIN',hue='TARGET')\n",
    "plt.title(\"Income Distribution of Applicants\")\n",
    "plt.xticks(rotation=90,fontsize=10)\n",
    "plt.show()"
   ]
  },
  {
   "cell_type": "markdown",
   "id": "bee38171",
   "metadata": {},
   "source": [
    "1) Income range between 50000 and 225000 has majority of applicant\n",
    "\n",
    "\n",
    "2) As the salary is more than 250000, the number of the applicants also decreases"
   ]
  },
  {
   "cell_type": "code",
   "execution_count": null,
   "id": "deb2c733",
   "metadata": {},
   "outputs": [],
   "source": [
    "#plotting the countplot for checking the distribution of income\n",
    "sns.countplot(data= inp0,x='NAME_INCOME_TYPE',hue='TARGET')\n",
    "plt.title(\"working type Distribution of Applicants Belonging to target\")\n",
    "plt.xticks(rotation=90,fontsize=10)\n",
    "plt.show()"
   ]
  },
  {
   "cell_type": "markdown",
   "id": "6f1d2c11",
   "metadata": {},
   "source": [
    "1) Working class applies for the most number of loans applicants and the number of defaulter is also max.\n",
    "\n",
    "2) Unemployed,Students, Businessman and Maternity leaves has minimum number of applicants "
   ]
  },
  {
   "cell_type": "code",
   "execution_count": null,
   "id": "f8207d0f",
   "metadata": {},
   "outputs": [],
   "source": [
    "#plotting the countplot for checking the distribution of income\n",
    "sns.countplot(data= inp0,x='NAME_INCOME_TYPE',hue='CODE_GENDER')\n",
    "plt.title(\"Distribution of Applicants Belonging to different genders\")\n",
    "plt.xticks(rotation=90,fontsize=10)\n",
    "plt.show()"
   ]
  },
  {
   "cell_type": "markdown",
   "id": "33427a43",
   "metadata": {},
   "source": [
    "1) Working class applies for the most number of loans applicants and the number of defaulter is also max.\n",
    "\n",
    "2) Unemployed,Students, Businessman and Maternity leaves has minimum number of applicants\n",
    "\n",
    "3) In every sector females are more than males"
   ]
  },
  {
   "cell_type": "code",
   "execution_count": null,
   "id": "3cf30430",
   "metadata": {},
   "outputs": [],
   "source": [
    "#plotting the countplot for checking the distribution of income\n",
    "sns.countplot(data= inp0,x='NAME_CONTRACT_TYPE',hue='TARGET')\n",
    "plt.title(\"Distribution of Applicants\")\n",
    "plt.xticks(rotation=90,fontsize=10)\n",
    "plt.show()"
   ]
  },
  {
   "cell_type": "markdown",
   "id": "8897042e",
   "metadata": {},
   "source": [
    "1) Cash Loan contracts have higher number of credit than revolving loans.\n",
    "\n",
    "2) Number of Defaulters is least in Revolving loans "
   ]
  },
  {
   "cell_type": "code",
   "execution_count": null,
   "id": "42ffef58",
   "metadata": {},
   "outputs": [],
   "source": [
    "#plotting the countplot for checking the distribution of income\n",
    "sns.countplot(data= inp0,x='NAME_CONTRACT_TYPE',hue='CODE_GENDER')\n",
    "plt.title(\"Distribution of Applicants\")\n",
    "plt.xticks(rotation=90,fontsize=10)\n",
    "plt.show()"
   ]
  },
  {
   "cell_type": "markdown",
   "id": "cbdb2b95",
   "metadata": {},
   "source": [
    "1) Cash Loan contracts have higher number of credit than revolving loans.\n",
    "\n",
    "2) Number of Females are the more than men in both the types of loans.\n"
   ]
  },
  {
   "cell_type": "code",
   "execution_count": null,
   "id": "b920d537",
   "metadata": {},
   "outputs": [],
   "source": [
    "#plotting the countplot for checking the distribution of education\n",
    "sns.countplot(data= inp0,x='NAME_EDUCATION_TYPE',hue='CODE_GENDER')\n",
    "plt.title(\"Distribution of Applicants\")\n",
    "plt.xticks(rotation=90,fontsize=10)\n",
    "plt.show()"
   ]
  },
  {
   "cell_type": "markdown",
   "id": "261d854d",
   "metadata": {},
   "source": [
    "1)  Number of females applicants are more than males\n",
    "\n",
    "2) females from secondary education are max in the applicants"
   ]
  },
  {
   "cell_type": "code",
   "execution_count": null,
   "id": "1912e304",
   "metadata": {},
   "outputs": [],
   "source": [
    "#plotting the countplot for checking the distribution of education\n",
    "sns.countplot(data= inp0,x='NAME_EDUCATION_TYPE',hue='TARGET')\n",
    "plt.title(\"Distribution of Applicants\")\n",
    "plt.xticks(rotation=90,fontsize=10)\n",
    "plt.show()"
   ]
  },
  {
   "cell_type": "markdown",
   "id": "b80ceb09",
   "metadata": {},
   "source": [
    "1)  Applicants from the secondary education are max \n",
    "\n",
    "2) degree holder Applicants are least.\n"
   ]
  },
  {
   "cell_type": "code",
   "execution_count": null,
   "id": "0eb9eaf4",
   "metadata": {},
   "outputs": [],
   "source": [
    "#plotting the countplot for checking the distribution of education\n",
    "sns.countplot(data= inp0,x='NAME_TYPE_SUITE',hue='TARGET')\n",
    "plt.title(\"Distribution of Applicants\")\n",
    "plt.xticks(rotation=90,fontsize=10)\n",
    "plt.show()"
   ]
  },
  {
   "cell_type": "markdown",
   "id": "a394041b",
   "metadata": {},
   "source": [
    "1) Applicant are max from Unaccompanied\n",
    "\n",
    "\n"
   ]
  },
  {
   "cell_type": "code",
   "execution_count": null,
   "id": "0a26ceef",
   "metadata": {},
   "outputs": [],
   "source": [
    "#plotting the countplot for checking the distribution of education\n",
    "sns.countplot(data= inp0,x='NAME_FAMILY_STATUS',hue='TARGET')\n",
    "plt.title(\"Distribution of Applicants\")\n",
    "plt.xticks(rotation=90,fontsize=10)\n",
    "plt.show()"
   ]
  },
  {
   "cell_type": "markdown",
   "id": "8353ea2c",
   "metadata": {},
   "source": [
    "1) Married people are most frequent to apply for the loans"
   ]
  },
  {
   "cell_type": "code",
   "execution_count": null,
   "id": "27ee4ae3",
   "metadata": {},
   "outputs": [],
   "source": [
    "#plotting the countplot for checking the distribution of housing types\n",
    "sns.countplot(data= inp0,x='NAME_HOUSING_TYPE',hue='TARGET')\n",
    "plt.title(\"Distribution of Applicants\")\n",
    "plt.xticks(rotation=90,fontsize=10)\n",
    "plt.show()"
   ]
  },
  {
   "cell_type": "markdown",
   "id": "26f28bf8",
   "metadata": {},
   "source": [
    "Most of the applicants have their own house"
   ]
  },
  {
   "cell_type": "markdown",
   "id": "156175f2",
   "metadata": {},
   "source": [
    "### univarite analysis in previous application"
   ]
  },
  {
   "cell_type": "code",
   "execution_count": null,
   "id": "82ba5028",
   "metadata": {},
   "outputs": [],
   "source": [
    "inp1.info()"
   ]
  },
  {
   "cell_type": "code",
   "execution_count": null,
   "id": "1c277872",
   "metadata": {},
   "outputs": [],
   "source": [
    "# Plotting a countplot to check distribution among contract states\n",
    "plt.figure(figsize=(20,6))\n",
    "sns.countplot(data = inp1, y= 'NAME_CASH_LOAN_PURPOSE',order=inp1['NAME_CASH_LOAN_PURPOSE'].value_counts().index)\n",
    "plt.title(\"Distribution of contract status with purposes\")\n",
    "plt.xticks(rotation=45,fontsize=18)\n",
    "plt.xscale('log')\n",
    "plt.show()"
   ]
  },
  {
   "cell_type": "markdown",
   "id": "8ed1e377",
   "metadata": {},
   "source": [
    "Mostly the loans applicants have applied for daily uses things.\n",
    "\n",
    "\n",
    "Only few applicants are there, who applied for purchasing the cars,homes or for businesss developments.\n"
   ]
  },
  {
   "cell_type": "code",
   "execution_count": null,
   "id": "63416557",
   "metadata": {},
   "outputs": [],
   "source": [
    "# Plotting a countplot to check distribution among contract states\n",
    "plt.figure(figsize=(20,6))\n",
    "sns.countplot(data = inp1, y= 'NAME_GOODS_CATEGORY',order=inp1['NAME_GOODS_CATEGORY'].value_counts().index)\n",
    "plt.title(\"Distribution of contract status with NAME_GOODS_CATEGORY\")\n",
    "plt.xticks(rotation=45,fontsize=18)\n",
    "plt.xscale('log')\n",
    "plt.show()"
   ]
  },
  {
   "cell_type": "markdown",
   "id": "3200da63",
   "metadata": {},
   "source": [
    "Mostly have applied for purchasing the electronics items.\n",
    "\n",
    "\n",
    "Almost few of them applied for purchasing housing related items "
   ]
  },
  {
   "cell_type": "code",
   "execution_count": null,
   "id": "76f891b9",
   "metadata": {},
   "outputs": [],
   "source": [
    "# Plotting a countplot to check distribution among client type\n",
    "plt.figure(figsize=(20,6))\n",
    "sns.countplot(data = inp1, x= 'NAME_CLIENT_TYPE',hue='NAME_CONTRACT_STATUS', order= inp1['NAME_CLIENT_TYPE'].value_counts().index)\n",
    "plt.title(\"Distribution of contract status with NAME_CLIENT_TYPE\")\n",
    "plt.xticks(rotation=45,fontsize=18)\n",
    "plt.show()"
   ]
  },
  {
   "cell_type": "markdown",
   "id": "c20ebc95",
   "metadata": {},
   "source": [
    "1) Lenders has apporved the loans of repeater applicants mostly\n",
    "\n",
    "2) Lenders has rejected only application of new client"
   ]
  },
  {
   "cell_type": "code",
   "execution_count": null,
   "id": "b5711594",
   "metadata": {},
   "outputs": [],
   "source": [
    "# Plotting a countplot to check distribution among client type\n",
    "plt.figure(figsize=(20,6))\n",
    "sns.countplot(data = inp1, x= 'NAME_YIELD_GROUP',hue='NAME_CONTRACT_STATUS', order= inp1['NAME_YIELD_GROUP'].value_counts().index)\n",
    "plt.title(\"Distribution of contract status with NAME_YIELD_GROUP\")\n",
    "plt.xticks(rotation=45,fontsize=18)\n",
    "plt.show()"
   ]
  },
  {
   "cell_type": "markdown",
   "id": "ae0335ca",
   "metadata": {},
   "source": [
    "\n",
    "#### BIVARIATE ANALYSIS"
   ]
  },
  {
   "cell_type": "code",
   "execution_count": null,
   "id": "1feefea8",
   "metadata": {},
   "outputs": [],
   "source": [
    "Defaulter = inp0[inp0.TARGET=='defaulter']\n",
    "Non_Defaulter = inp0[inp0.TARGET=='non defaulter']"
   ]
  },
  {
   "cell_type": "code",
   "execution_count": null,
   "id": "c198c718",
   "metadata": {},
   "outputs": [],
   "source": [
    "plt.figure(figsize=(15,6))\n",
    "\n",
    "plt.subplot(1,2,1)\n",
    "plt.title(\"Income v/s family members among non-defaulters\", fontsize=12)\n",
    "sns.scatterplot(Non_Defaulter.AMT_INCOME_TOTAL,Non_Defaulter.CNT_FAM_MEMBERS)\n",
    "\n",
    "plt.subplot(1,2,2)\n",
    "plt.title(\"Income v/s family members among defaulters\", fontsize=12)\n",
    "sns.scatterplot(Defaulter.AMT_INCOME_TOTAL,Defaulter.CNT_FAM_MEMBERS)\n",
    "plt.show()"
   ]
  },
  {
   "cell_type": "code",
   "execution_count": null,
   "id": "36b5baee",
   "metadata": {},
   "outputs": [],
   "source": [
    "plt.figure(figsize=(15,6))\n",
    "plt.subplot(1,2,1)\n",
    "plt.title(\"Income v/s children among non-defaulters\", fontsize=20)\n",
    "sns.scatterplot(Non_Defaulter.AMT_INCOME_TOTAL,Non_Defaulter.CNT_CHILDREN )\n",
    "\n",
    "plt.subplot(1,2,2)\n",
    "plt.title(\"Income v/s children among defaulters\", fontsize=20)\n",
    "sns.scatterplot(Defaulter.AMT_INCOME_TOTAL,Defaulter.CNT_CHILDREN )\n",
    "plt.show()"
   ]
  },
  {
   "cell_type": "code",
   "execution_count": null,
   "id": "fb2fd841",
   "metadata": {},
   "outputs": [],
   "source": [
    "plt.figure(figsize=(15,6))\n",
    "plt.subplot(1,2,1)\n",
    "plt.title(\"AMT_ANNUITY v/s AMT_GOODS_PRICE among non-defaulters\", fontsize=12)\n",
    "sns.scatterplot(Non_Defaulter.AMT_ANNUITY,Non_Defaulter.AMT_GOODS_PRICE )\n",
    "\n",
    "plt.subplot(1,2,2)\n",
    "plt.title(\"AMT_ANNUITY v/s AMT_GOODS_PRICE among defaulters\", fontsize=12)\n",
    "sns.scatterplot(Defaulter.AMT_ANNUITY,Defaulter.AMT_GOODS_PRICE )\n",
    "plt.show()"
   ]
  },
  {
   "cell_type": "code",
   "execution_count": null,
   "id": "dff4038f",
   "metadata": {},
   "outputs": [],
   "source": [
    "plt.figure(figsize=(15,6))\n",
    "plt.subplot(1,2,1)\n",
    "plt.title(\"AMT_ANNUITY v/s AMT_CREDIT among non-defaulters\", fontsize=12)\n",
    "sns.scatterplot(Non_Defaulter.AMT_ANNUITY,Non_Defaulter.AMT_CREDIT )\n",
    "\n",
    "plt.subplot(1,2,2)\n",
    "plt.title(\"AMT_ANNUITY v/s AMT_CREDIT among defaulters\", fontsize=12)\n",
    "sns.scatterplot(Defaulter.AMT_ANNUITY,Defaulter.AMT_CREDIT )\n",
    "plt.show()"
   ]
  },
  {
   "cell_type": "code",
   "execution_count": null,
   "id": "38462095",
   "metadata": {},
   "outputs": [],
   "source": [
    "plt.figure(figsize=(15,6))\n",
    "plt.subplot(1,2,1)\n",
    "plt.title(\"AMT_GOODS_PRICE v/s AMT_CREDIT among non-defaulters\", fontsize=12)\n",
    "sns.scatterplot(Non_Defaulter.AMT_GOODS_PRICE,Non_Defaulter.AMT_CREDIT )\n",
    "\n",
    "plt.subplot(1,2,2)\n",
    "plt.title(\"AMT_GOODS_PRICE v/s AMT_CREDIT among defaulters\", fontsize=12)\n",
    "sns.scatterplot(Defaulter.AMT_GOODS_PRICE,Defaulter.AMT_CREDIT )\n",
    "plt.show()"
   ]
  },
  {
   "cell_type": "markdown",
   "id": "47016c76",
   "metadata": {},
   "source": [
    "#### Merging the two csv files"
   ]
  },
  {
   "cell_type": "code",
   "execution_count": null,
   "id": "16f0f287",
   "metadata": {},
   "outputs": [],
   "source": [
    "inp2 = pd.merge(inp0,inp1, how='left', on=['SK_ID_CURR'])\n",
    "inp2.head()"
   ]
  },
  {
   "cell_type": "code",
   "execution_count": null,
   "id": "b80b814a",
   "metadata": {},
   "outputs": [],
   "source": [
    "#Box plotting for Loan purpose and Credit amount in logarithmic scale\n",
    "\n",
    "plt.figure(figsize=(16,12))\n",
    "plt.xticks(rotation=90)\n",
    "plt.yscale('log')\n",
    "sns.boxplot(data =inp3, x='NAME_CASH_LOAN_PURPOSE',y='AMT_CREDIT_x',hue='CODE_GENDER')\n",
    "plt.title('Prev Credit amount vs Loan Purpose', fontsize=12)\n",
    "plt.show()"
   ]
  },
  {
   "cell_type": "code",
   "execution_count": null,
   "id": "0354eef9",
   "metadata": {},
   "outputs": [],
   "source": [
    "# Distribution of contract status in logarithmic scale\n",
    "plt.figure(figsize=(16,12))\n",
    "plt.xticks(rotation=90)\n",
    "plt.yscale('log')\n",
    "sns.boxplot(data =inp3, x='NAME_CASH_LOAN_PURPOSE',y='AMT_CREDIT_x',hue='CODE_GENDER')\n",
    "plt.title('Prev Credit amount vs Loan Purpose', fontsize=12)\n",
    "plt.show()"
   ]
  },
  {
   "cell_type": "code",
   "execution_count": null,
   "id": "13370277",
   "metadata": {},
   "outputs": [],
   "source": [
    "# Distribution of contract status in logarithmic scale\n",
    "plt.figure(figsize=(16,12))\n",
    "plt.xticks(rotation=90)\n",
    "plt.xscale('log')\n",
    "sns.countplot(data = inp3, y= 'NAME_CASH_LOAN_PURPOSE',order=inp3['NAME_CASH_LOAN_PURPOSE'].value_counts().index,hue= 'NAME_CONTRACT_STATUS') \n",
    "plt.title('NAME_CASH_LOAN_PURPOSE vs NAME_CONTRACT_STATUS', fontsize=12)\n",
    "plt.show()"
   ]
  },
  {
   "cell_type": "code",
   "execution_count": null,
   "id": "a029666f",
   "metadata": {},
   "outputs": [],
   "source": [
    "# Distribution of purpose\n",
    "plt.figure(figsize=(16,12))\n",
    "plt.xticks(rotation=90)\n",
    "plt.xscale('log')\n",
    "sns.countplot(data = inp3, y= 'NAME_CASH_LOAN_PURPOSE',order=inp3['NAME_CASH_LOAN_PURPOSE'].value_counts().index,hue= 'TARGET') \n",
    "plt.title('NAME_CASH_LOAN_PURPOSE vs TARGET', fontsize=12)\n",
    "plt.show()"
   ]
  },
  {
   "cell_type": "code",
   "execution_count": null,
   "id": "1caedeea",
   "metadata": {},
   "outputs": [],
   "source": [
    "# Distribution of Education and credit type\n",
    "plt.figure(figsize=(16,12))\n",
    "plt.xticks(rotation=90)\n",
    "plt.xscale('log')\n",
    "sns.barplot(data = inp3, y= 'AMT_CREDIT_x',x='NAME_EDUCATION_TYPE',hue= 'TARGET') \n",
    "plt.title('Education vs credit type', fontsize=12)\n",
    "plt.show()"
   ]
  },
  {
   "cell_type": "code",
   "execution_count": null,
   "id": "fd09eac2",
   "metadata": {},
   "outputs": [],
   "source": []
  }
 ],
 "metadata": {
  "kernelspec": {
   "display_name": "Python 3 (ipykernel)",
   "language": "python",
   "name": "python3"
  },
  "language_info": {
   "codemirror_mode": {
    "name": "ipython",
    "version": 3
   },
   "file_extension": ".py",
   "mimetype": "text/x-python",
   "name": "python",
   "nbconvert_exporter": "python",
   "pygments_lexer": "ipython3",
   "version": "3.9.13"
  }
 },
 "nbformat": 4,
 "nbformat_minor": 5
}
